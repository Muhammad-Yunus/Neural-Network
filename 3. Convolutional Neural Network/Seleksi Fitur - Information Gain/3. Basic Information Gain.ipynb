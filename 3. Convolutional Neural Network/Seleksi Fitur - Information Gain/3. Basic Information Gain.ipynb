{
 "cells": [
  {
   "cell_type": "code",
   "execution_count": 44,
   "metadata": {},
   "outputs": [
    {
     "data": {
      "text/plain": [
       "array([2], dtype=int64)"
      ]
     },
     "execution_count": 44,
     "metadata": {},
     "output_type": "execute_result"
    }
   ],
   "source": [
    "import numpy as np\n",
    "from sklearn.feature_selection import mutual_info_classif\n",
    "from sklearn.preprocessing import LabelEncoder\n",
    "\n",
    "le = LabelEncoder()\n",
    "\n",
    "le.fit([\"red\", \"yellow\", \"green\", \"tosca\", \"blue\"])"
   ]
  },
  {
   "cell_type": "code",
   "execution_count": 166,
   "metadata": {},
   "outputs": [
    {
     "name": "stdout",
     "output_type": "stream",
     "text": [
      "----------------------------------------\n",
      "X1\tX2\tX3\tX4\tColor\n",
      "----------------------------------------\n",
      "255\t0\t0\t3 \t red\n",
      "255\t255\t10\t16 \t yellow\n",
      "20\t255\t50\t10 \t green\n",
      "50\t255\t235\t76 \t tosca\n",
      "0\t50\t255\t0 \t blue\n",
      "50\t245\t60\t34 \t green\n",
      "234\t50\t0\t11 \t red\n",
      "0\t10\t235\t21 \t blue\n",
      "----------------------------------------\n",
      "1.03\t0.34\t0.95\t0.00 \tMI\n"
     ]
    }
   ],
   "source": [
    "# definisikan x_1, x_2, x_3, x_4 dengan masing-masing n_Samples = 5\n",
    "x = np.array([[255, 0  , 0  , 3  ],\n",
    "              [255, 255, 10 , 16 ],\n",
    "              [20 , 255, 50 , 10 ],\n",
    "              [50 , 255, 235, 76 ],\n",
    "              [0  , 50 , 255, 0  ],\n",
    "              [50 , 245, 60 , 34 ],\n",
    "              [234, 50 , 0  , 11 ],\n",
    "              [0  , 10 , 235, 21 ]])\n",
    "y = np.array([le.transform([\"red\"]), \n",
    "              le.transform([\"yellow\"]), \n",
    "              le.transform([\"green\"]), \n",
    "              le.transform([\"tosca\"]), \n",
    "              le.transform([\"blue\"]),\n",
    "              le.transform([\"green\"]),\n",
    "              le.transform([\"red\"]),\n",
    "              le.transform([\"blue\"])\n",
    "             ])\n",
    "\n",
    "\n",
    "mi = mutual_info_classif(x, y.ravel(), discrete_features=False)\n",
    "\n",
    "\n",
    "\n",
    "print (\"----------------------------------------\")\n",
    "print (\"X1\\tX2\\tX3\\tX4\\tColor\")\n",
    "print (\"----------------------------------------\")\n",
    "for i in range(len(y)):\n",
    "    print('\\t'.join(str(j) for j in x[i,:]), \"\\t\",  le.inverse_transform(y[i])[0])\n",
    "\n",
    "print (\"----------------------------------------\")\n",
    "print('\\t'.join([str(\"%.2f\" % i) for i in mi]), \"\\tMI\")\n",
    "\n"
   ]
  },
  {
   "cell_type": "code",
   "execution_count": null,
   "metadata": {},
   "outputs": [],
   "source": [
    "mutual_info_classif()"
   ]
  }
 ],
 "metadata": {
  "kernelspec": {
   "display_name": "Python 3",
   "language": "python",
   "name": "python3"
  },
  "language_info": {
   "codemirror_mode": {
    "name": "ipython",
    "version": 3
   },
   "file_extension": ".py",
   "mimetype": "text/x-python",
   "name": "python",
   "nbconvert_exporter": "python",
   "pygments_lexer": "ipython3",
   "version": "3.7.6"
  }
 },
 "nbformat": 4,
 "nbformat_minor": 4
}
